{
 "cells": [
  {
   "cell_type": "markdown",
   "metadata": {},
   "source": [
    "# Program 1"
   ]
  },
  {
   "cell_type": "markdown",
   "metadata": {},
   "source": [
    "# SQUARE ROOT OF A NUMBER\n",
    "\n",
    "Algorithm:\n",
    "\n",
    "1. Define a function named newtonSqrt().\n",
    "2. Initialize approx as 0.5*n and better as 0.5*(approx.+n/approx.)\n",
    "3. Use a while loop with a condition better!=approx to perform the following,\n",
    "    i. Set approx.=better\n",
    "    ii. Better=0.5*(approx.+n/approx.)\n",
    "4. Print the value of approx"
   ]
  },
  {
   "cell_type": "code",
   "execution_count": 1,
   "metadata": {},
   "outputs": [
    {
     "name": "stdout",
     "output_type": "stream",
     "text": [
      "The square root is 21.25\n"
     ]
    }
   ],
   "source": [
    "def newtonSqrt(n):\n",
    "    approx = 0.5 * n\n",
    "    better = 0.5 * (approx + n/approx)\n",
    "    while better != approx:\n",
    "     approx = better\n",
    "    better = 0.5 * (approx + n/approx)\n",
    "    return approx\n",
    "print('The square root is' ,newtonSqrt(81))"
   ]
  },
  {
   "cell_type": "markdown",
   "metadata": {},
   "source": [
    "# Program 2"
   ]
  },
  {
   "cell_type": "markdown",
   "metadata": {},
   "source": [
    "# EXPONENTIATION OF A NUMBER\n",
    "\n",
    "Algorithm:\n",
    "1. Define a function named power()\n",
    "2. Read the values of base and exp\n",
    "3. Use ‘if’ to check if exp is equal to 1 or not\n",
    "    i. if exp is equal to 1, then return base\n",
    "    ii.if exp is not equal to 1, then return (base*power(base,exp-1))\n",
    "4. Print the result"
   ]
  },
  {
   "cell_type": "code",
   "execution_count": 2,
   "metadata": {},
   "outputs": [
    {
     "name": "stdout",
     "output_type": "stream",
     "text": [
      "Enter base: 2\n",
      "Enter exponential value: 3\n",
      "Result: 8\n"
     ]
    }
   ],
   "source": [
    "def power(base,exp):\n",
    "    if(exp==1):\n",
    "     return(base)\n",
    "    if(exp!=1):\n",
    "     return(base*power(base,exp-1))\n",
    "base=int(input(\"Enter base: \"))\n",
    "exp=int(input(\"Enter exponential value: \"))\n",
    "print(\"Result:\",power(base,exp))"
   ]
  },
  {
   "cell_type": "markdown",
   "metadata": {},
   "source": [
    "# Program 3"
   ]
  },
  {
   "cell_type": "markdown",
   "metadata": {},
   "source": [
    "# GCD OF TWO NUMBERS\n",
    "\n",
    "Algorithm:\n",
    "    \n",
    "1. Define a function named computeGCD()\n",
    "2. Find the smallest among the two inputs x and y\n",
    "3. Perform the following step till smaller+1\n",
    "Check if ((x % i == 0) and (y % i == 0)), then assign GCD=i\n",
    "4. Print the value of gcd"
   ]
  },
  {
   "cell_type": "code",
   "execution_count": null,
   "metadata": {},
   "outputs": [],
   "source": [
    "def computeGCD(x, y):\n",
    "    if x > y:\n",
    "     smaller = y\n",
    "    else:\n",
    "     smaller = x\n",
    "    for i in range(1, smaller+1):\n",
    "     if((x % i == 0) and (y % i == 0)):\n",
    "      gcd = i\n",
    "    \n",
    "    return gcd\n",
    "num1 = 54\n",
    "num2 = 24\n",
    "# take input from the user\n",
    "# num1 = int(input(\"Enter first number: \"))\n",
    "# num2 = int(input(\"Enter second number: \"))\n",
    "print(\"The GCD. of\", num1,\"and\", num2,\"is\", computeGCD(num1, num2))"
   ]
  },
  {
   "cell_type": "markdown",
   "metadata": {},
   "source": [
    "# Program 4"
   ]
  },
  {
   "cell_type": "markdown",
   "metadata": {},
   "source": [
    "# FINDING MAXIMUM FROM A LIST OF NUMBERS\n",
    "\n",
    "Algorithm:\n",
    "    \n",
    "1. Create an empty list named l\n",
    "2. Read the value of n\n",
    "3. Read the elements of the list until n\n",
    "4. Assign l[0] as maxno\n",
    "5. If l[i]>maxno then set maxno=l[i]\n",
    "6. Increment i by 1\n",
    "7. Repeat steps 5-6 until i<n\n",
    "8. Print the value of maximum number"
   ]
  },
  {
   "cell_type": "code",
   "execution_count": null,
   "metadata": {},
   "outputs": [],
   "source": [
    "l=[]\n",
    "n=int(input(\"enter the upper limit\"))\n",
    "for i in range(0,n):\n",
    "    a=int(input(\"enter the numbers\"))\n",
    "    l.append(a)\n",
    "    maxno=l[0]\n",
    "for i in range(0,len(l)):\n",
    "    if l[i]>maxno:\n",
    "        maxno=l[i]\n",
    "print(\"The maximum number is %d\"%maxno)"
   ]
  },
  {
   "cell_type": "markdown",
   "metadata": {},
   "source": [
    "# Pgrogram 5"
   ]
  },
  {
   "cell_type": "markdown",
   "metadata": {},
   "source": [
    "# LINEAR SEARCH\n",
    "\n",
    "Algorithm:\n",
    "    \n",
    "1. Read n elements into the list\n",
    "2. Read the element to be searched\n",
    "3. If alist[pos]==item, then print the position of the item\n",
    "4. Else increment the position and repeat step 3 until pos reaches the length of the list"
   ]
  },
  {
   "cell_type": "code",
   "execution_count": null,
   "metadata": {},
   "outputs": [],
   "source": [
    "def search(alist,item):\n",
    " pos=0\n",
    " found=False\n",
    " stop=False\n",
    " while pos<len(alist) and not found and not stop:\n",
    "  if alist[pos]==item:\n",
    "     found=True\n",
    "     print(\"element found in position\",pos)\n",
    "   else:\n",
    "   if alist[pos]>item:\n",
    "    stop=True\n",
    " else:\n",
    "  pos=pos+1\n",
    " return found\n",
    "a=[]\n",
    "n=int(input(\"enter upper limit\"))\n",
    "for i in range(0,n):\n",
    " e=int(input(\"enter the elements\"))\n",
    " a.append(e)\n",
    "x=int(input(\"enter element to search\"))\n",
    "search(a,x)"
   ]
  },
  {
   "cell_type": "markdown",
   "metadata": {},
   "source": [
    "# Program 6"
   ]
  },
  {
   "cell_type": "markdown",
   "metadata": {},
   "source": [
    "# BINARY SEARCH\n",
    "\n",
    "Algorithm:\n",
    "    \n",
    "1. Read the search element\n",
    "2. Find the middle element in the sorted list\n",
    "3. Compare the search element with the middle element\n",
    "i. if both are matching, print element found\n",
    "ii. else then check if the search element is smaller or larger than the middle element\n",
    "4. If the search element is smaller than the middle element, then repeat steps 2 and 3 for the\n",
    "left sublist of the middle element\n",
    "5. If the search element is larger than the middle element, then repeat steps 2 and 3 for the\n",
    "right sublist of the middle element\n",
    "6. Repeat the process until the search element if found in the list\n",
    "7. If element is not found, loop terminates"
   ]
  },
  {
   "cell_type": "code",
   "execution_count": null,
   "metadata": {},
   "outputs": [],
   "source": [
    "def bsearch(alist,item):\n",
    " first=0\n",
    " last=len(alist)-1\n",
    " found=False\n",
    " while first<=last and not found:\n",
    "  mid=(first+last)//2\n",
    " if alist[mid]==item:\n",
    "    found=True\n",
    "    print(\"element found in position\",mid)\n",
    " else:\n",
    "     if item<alist[mid]:\n",
    "       last=mid-1\n",
    "     else:\n",
    "        first=mid+mid-1\n",
    " return found\n",
    "a=[]\n",
    "n=int(input(\"enter upper limit\"))\n",
    "for i in range(0,n):\n",
    " e=int(input(\"enter the elements\"))\n",
    " a.append(e)\n",
    "x=int(input(\"enter element to search\"))\n",
    "bsearch(a,x)\n"
   ]
  },
  {
   "cell_type": "markdown",
   "metadata": {},
   "source": [
    "# Program 7"
   ]
  },
  {
   "cell_type": "markdown",
   "metadata": {},
   "source": [
    "# SELECTION SORT\n",
    "\n",
    "Algorithm:\n",
    "\n",
    "1. Create a function named selectionsort\n",
    "2. Initialise pos=0\n",
    "3. If alist[location]>alist[pos] then perform the following till i+1,\n",
    "4. Set pos=location\n",
    "5. Swap alist[i] and alist[pos]\n",
    "6. Print the sorted list"
   ]
  },
  {
   "cell_type": "code",
   "execution_count": 37,
   "metadata": {},
   "outputs": [
    {
     "name": "stdout",
     "output_type": "stream",
     "text": [
      "[17, 20, 26, 31, 44, 54, 55, 77, 93]\n"
     ]
    }
   ],
   "source": [
    "def selectionSort(alist):\n",
    " for i in range(len(alist)-1,0,-1):\n",
    "  pos=0\n",
    "  for location in range(1,i+1):\n",
    "   if alist[location]>alist[pos]:\n",
    "      pos= location\n",
    "  temp = alist[i]\n",
    "  alist[i] = alist[pos]\n",
    "  alist[pos] = temp\n",
    "alist = [54,26,93,17,77,31,44,55,20]\n",
    "selectionSort(alist)\n",
    "print(alist)\n"
   ]
  },
  {
   "cell_type": "markdown",
   "metadata": {},
   "source": [
    "# Program 8"
   ]
  },
  {
   "cell_type": "markdown",
   "metadata": {},
   "source": [
    "# INSERTION SORT\n",
    "\n",
    "Algorithm:\n",
    "    \n",
    "1. Create a function named insertionsort\n",
    "2. Initialise currentvalue=alist[index] and position=index\n",
    "3. while position>0 and alist[position-1]>currentvalue, perform the following till len(alist)\n",
    "4. alist[position]=alist[position-1]\n",
    "5. position = position-1\n",
    "6. alist[position]=currentvalue\n",
    "7. Print the sorted list"
   ]
  },
  {
   "cell_type": "code",
   "execution_count": 1,
   "metadata": {},
   "outputs": [
    {
     "name": "stdout",
     "output_type": "stream",
     "text": [
      "[20, 54, 54, 54, 54, 54, 93, 93, 93]\n"
     ]
    }
   ],
   "source": [
    "def insertionSort(alist):\n",
    " for index in range(1,len(alist)):\n",
    "  currentvalue = alist[index]\n",
    "  position = index\n",
    "  while position>0 and alist[position-1]>currentvalue:\n",
    "    alist[position]=alist[position-1]\n",
    "    position = position-1\n",
    " alist[position]=currentvalue\n",
    "alist = [54,26,93,17,77,31,44,55,20]\n",
    "insertionSort(alist)\n",
    "print(alist)"
   ]
  },
  {
   "cell_type": "markdown",
   "metadata": {},
   "source": [
    "# Program 9"
   ]
  },
  {
   "cell_type": "markdown",
   "metadata": {},
   "source": [
    "# MERGE SORT\n",
    "\n",
    "Algorithm:\n",
    "1. Create a function named mergesort\n",
    "2. Find the mid of the list\n",
    "3. Assign lefthalf = alist[:mid] and righthalf = alist[mid:]\n",
    "4. Initialise i=j=k=0\n",
    "5. while i < len(lefthalf) and j < len(righthalf), perform the following\n",
    "if lefthalf[i] < righthalf[j]:\n",
    "alist[k]=lefthalf[i]\n",
    "Increment i\n",
    "else\n",
    "alist[k]=righthalf[j]\n",
    "Increment j\n",
    "Increment k\n",
    "6. while i < len(lefthalf),perform the following\n",
    "alist[k]=lefthalf[i]\n",
    "Increment i\n",
    "Increment k\n",
    "7. while j < len(righthalf), perform the following\n",
    "alist[k]=righthalf[j]\n",
    "Increment j\n",
    "Increment k\n",
    "8. Print the sorted list"
   ]
  },
  {
   "cell_type": "code",
   "execution_count": 8,
   "metadata": {},
   "outputs": [
    {
     "name": "stdout",
     "output_type": "stream",
     "text": [
      "[17, 20, 26, 31, 44, 54, 55, 77, 93]\n"
     ]
    }
   ],
   "source": [
    "def mergeSort(alist):\n",
    "# print(\"Splitting \",alist)\n",
    "  if len(alist)>1:\n",
    "     mid = len(alist)//2\n",
    "     lefthalf = alist[:mid]\n",
    "     righthalf = alist[mid:]\n",
    "     mergeSort(lefthalf)\n",
    "     mergeSort(righthalf)\n",
    "     i=j=k=0\n",
    "     while i < len(lefthalf) and j < len(righthalf):\n",
    "       if lefthalf[i] < righthalf[j]:\n",
    "           alist[k]=lefthalf[i]\n",
    "           i=i+1\n",
    "       else:\n",
    "          alist[k]=righthalf[j]\n",
    "          j=j+1\n",
    "       k=k+1\n",
    "     while i < len(lefthalf):\n",
    "        alist[k]=lefthalf[i]\n",
    "        i=i+1\n",
    "        k=k+1\n",
    "     while j < len(righthalf):\n",
    "       alist[k]=righthalf[j]\n",
    "       j=j+1\n",
    "     k=k+1\n",
    "#print(\"Merging \",alist)\n",
    "alist = [54,26,93,17,77,31,44,55,20]\n",
    "mergeSort(alist)\n",
    "print(alist)"
   ]
  },
  {
   "cell_type": "markdown",
   "metadata": {},
   "source": [
    "# Program 10"
   ]
  },
  {
   "cell_type": "code",
   "execution_count": null,
   "metadata": {},
   "outputs": [],
   "source": [
    "MATRIX MULTIPLICATION\n",
    "\n",
    "Algorithm:\n",
    "    \n",
    "1. Define two matrices X and Y\n",
    "2. Create a resultant matrix named ‘result’\n",
    "3. for i in range(len(X)):\n",
    "i. for j in range(len(Y[0])):\n",
    "a) for k in range(len(Y))\n",
    "b) result[i][j] += X[i][k] * Y[k][j]\n",
    "4. for r in result, print the value of r"
   ]
  },
  {
   "cell_type": "code",
   "execution_count": 38,
   "metadata": {},
   "outputs": [
    {
     "name": "stdout",
     "output_type": "stream",
     "text": [
      "[114, 160, 60, 27]\n",
      "[74, 97, 73, 14]\n",
      "[119, 157, 112, 23]\n"
     ]
    }
   ],
   "source": [
    "X = [[12,7,3],\n",
    "  [4 ,5,6],\n",
    "  [7 ,8,9]]\n",
    "Y = [[5,8,1,2],\n",
    "  [6,7,3,0],\n",
    "  [4,5,9,1]]\n",
    "result = [[0,0,0,0],\n",
    "      [0,0,0,0],\n",
    "      [0,0,0,0]]\n",
    "for i in range(len(X)):\n",
    "  for j in range(len(Y[0])):\n",
    "   for k in range(len(Y)):\n",
    "    result[i][j] += X[i][k] * Y[k][j]\n",
    "for r in result:\n",
    " print(r)"
   ]
  },
  {
   "cell_type": "code",
   "execution_count": null,
   "metadata": {},
   "outputs": [],
   "source": [
    "Program 11​"
   ]
  },
  {
   "cell_type": "code",
   "execution_count": null,
   "metadata": {},
   "outputs": [],
   "source": [
    "SIMULATE BOUNCING BALL USING PYGAME\n",
    "\n",
    "Algorithm:\n",
    "    \n",
    "1. Import the required packages\n",
    "2. Define the required variables\n",
    "3. Define the screen space to display the bouncing balls in that space"
   ]
  },
  {
   "cell_type": "code",
   "execution_count": null,
   "metadata": {},
   "outputs": [],
   "source": [
    "import sys\n",
    "import pygame\n",
    "pygame.init()\n",
    "\n",
    "size = width, height = 320, 240\n",
    "speed = [2, 2]\n",
    "black = 0, 0, 0\n",
    "\n",
    "screen = pygame.display.set_mode(size)\n",
    "\n",
    "ball = pygame.image.load('C:\\\\Users\\\\TKS\\\\Desktop\\\\ML\\\\ball.jpg')\n",
    "ballrect = ball.get_rect()\n",
    "\n",
    "while 1:\n",
    "  for event in pygame.event.get():\n",
    "    if event.type == pygame.QUIT: sys.exit()\n",
    "  ballrect = ballrect.move(speed)\n",
    "  if ballrect.left < 0 or ballrect.right > width:\n",
    "     speed[0] = -speed[0]\n",
    "  if ballrect.top < 0 or ballrect.bottom > height:\n",
    "     speed[1] = -speed[1]\n",
    "\n",
    "  screen.fill(black)\n",
    "  screen.blit(ball, ballrect)\n",
    "  pygame.display.flip()"
   ]
  }
 ],
 "metadata": {
  "kernelspec": {
   "display_name": "Python 3",
   "language": "python",
   "name": "python3"
  },
  "language_info": {
   "codemirror_mode": {
    "name": "ipython",
    "version": 3
   },
   "file_extension": ".py",
   "mimetype": "text/x-python",
   "name": "python",
   "nbconvert_exporter": "python",
   "pygments_lexer": "ipython3",
   "version": "3.6.4"
  }
 },
 "nbformat": 4,
 "nbformat_minor": 2
}
